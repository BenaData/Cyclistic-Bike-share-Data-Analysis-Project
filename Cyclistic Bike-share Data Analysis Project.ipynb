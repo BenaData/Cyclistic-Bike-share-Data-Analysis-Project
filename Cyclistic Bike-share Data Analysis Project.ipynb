{
 "cells": [
  {
   "cell_type": "markdown",
   "id": "130b1714-aaf6-4052-a472-6722f8bc4a24",
   "metadata": {},
   "source": [
    "#                                 Cyclistic Bike-share Data Analysis Project\n",
    "\n",
    "## Author: Benard Mwinzi"
   ]
  },
  {
   "cell_type": "markdown",
   "id": "fbd979f5-10c2-4908-a69d-9c47449e2388",
   "metadata": {},
   "source": [
    "## Project Summary\n",
    "Cyclistic Bike-share is an imaginary bike company whose data is used in the Google Data Analytics Capstone Project. The company has a fleet of 5,800 bicycles and 600 docking stations. The company has collected a large amount of data, and the management wants to use insights from that data to influence business decisions. The marketing team wants the data to be analyzed to determine if it is a good decision to encourage its riders to become annual members to improve company sales. This project is based on the company's 2023 data because it is more recent, so more relevant to the study. The primary objective of this Data Analysis project is to determine how annual and casual members use bikes differently.\n",
    "\n",
    "We used data to answer the following questions:\n",
    "\n",
    "i) Which stations have the highest number of rides?\n",
    "\n",
    "ii) Which weekday has the highest number of rides?\n",
    "\n",
    "iii) Do annual riders have more rides than casual riders?\n",
    "\n",
    "iv) Do annual riders have a higher average ride duration than casual riders?\n"
   ]
  },
  {
   "cell_type": "markdown",
   "id": "39c224d2-a820-474d-b606-e0f205bd7a35",
   "metadata": {},
   "source": [
    "## Loading the libraries"
   ]
  },
  {
   "cell_type": "code",
   "execution_count": 12,
   "id": "021331bd-0391-451f-98e9-9fab3b4693fb",
   "metadata": {},
   "outputs": [],
   "source": [
    "# loading libraries\n",
    "%matplotlib inline\n",
    "import pandas as pd\n",
    "import numpy as np\n",
    "import matplotlib.pyplot as plt\n",
    "from scipy import stats\n",
    "import seaborn as sns\n",
    "import os\n",
    "import warnings\n",
    "warnings.filterwarnings(\"ignore\")"
   ]
  },
  {
   "cell_type": "markdown",
   "id": "2cd6fa9a-7540-4e62-84f0-7e43d048d3a8",
   "metadata": {},
   "source": [
    "## Loading the datasets"
   ]
  },
  {
   "cell_type": "code",
   "execution_count": 2,
   "id": "acb14a97-7887-45e1-9824-08057b37778a",
   "metadata": {},
   "outputs": [],
   "source": [
    "# Setting the directory\n",
    "directory = \"D:/Data Science/Python/Coursera/Cyclistic\"\n",
    "# Creating an empty list\n",
    "data = []\n",
    "# Loading the CSV files into Dataframes\n",
    "for filename in os.listdir(directory):\n",
    "    if filename.endswith(\".csv\"):\n",
    "        df = pd.read_csv(os.path.join(directory, filename))\n",
    "        data.append(df)\n",
    "# Merging Dataframes\n",
    "annual_data = pd.concat(data, ignore_index=True)"
   ]
  },
  {
   "cell_type": "code",
   "execution_count": 3,
   "id": "26630e7b-e3b5-45c5-a0c0-5d36c925f6db",
   "metadata": {},
   "outputs": [
    {
     "name": "stdout",
     "output_type": "stream",
     "text": [
      "Annual data Shape: (5719877, 13)\n"
     ]
    }
   ],
   "source": [
    "#Checking the dimension of combined data\n",
    "print(\"Annual data Shape: \"+ str(annual_data.shape))"
   ]
  },
  {
   "cell_type": "markdown",
   "id": "f4f76736-5d6b-4851-89f1-3dc9062da7f6",
   "metadata": {},
   "source": [
    "The combined data has 5719877 rows in 13 columns. The index column needs to be dropped"
   ]
  },
  {
   "cell_type": "markdown",
   "id": "784c5642-898c-48d5-8961-6fa6dd4268a5",
   "metadata": {},
   "source": [
    "## Data Cleaning\n",
    "\n",
    "The data needed to be cleaned by removing any available duplicates, dealing with missing values, and removing outliers. New variables needed to be created too."
   ]
  },
  {
   "cell_type": "code",
   "execution_count": 4,
   "id": "5dc54921-3fe3-4133-9d3c-e2432bd9d4c6",
   "metadata": {},
   "outputs": [
    {
     "data": {
      "text/html": [
       "<div>\n",
       "<style scoped>\n",
       "    .dataframe tbody tr th:only-of-type {\n",
       "        vertical-align: middle;\n",
       "    }\n",
       "\n",
       "    .dataframe tbody tr th {\n",
       "        vertical-align: top;\n",
       "    }\n",
       "\n",
       "    .dataframe thead th {\n",
       "        text-align: right;\n",
       "    }\n",
       "</style>\n",
       "<table border=\"1\" class=\"dataframe\">\n",
       "  <thead>\n",
       "    <tr style=\"text-align: right;\">\n",
       "      <th></th>\n",
       "      <th>ride_id</th>\n",
       "      <th>rideable_type</th>\n",
       "      <th>started_at</th>\n",
       "      <th>ended_at</th>\n",
       "      <th>start_station_name</th>\n",
       "      <th>start_station_id</th>\n",
       "      <th>end_station_name</th>\n",
       "      <th>end_station_id</th>\n",
       "      <th>start_lat</th>\n",
       "      <th>start_lng</th>\n",
       "      <th>end_lat</th>\n",
       "      <th>end_lng</th>\n",
       "      <th>member_casual</th>\n",
       "    </tr>\n",
       "  </thead>\n",
       "  <tbody>\n",
       "    <tr>\n",
       "      <th>0</th>\n",
       "      <td>F96D5A74A3E41399</td>\n",
       "      <td>electric_bike</td>\n",
       "      <td>2023-01-21 20:05:42</td>\n",
       "      <td>2023-01-21 20:16:33</td>\n",
       "      <td>Lincoln Ave &amp; Fullerton Ave</td>\n",
       "      <td>TA1309000058</td>\n",
       "      <td>Hampden Ct &amp; Diversey Ave</td>\n",
       "      <td>202480.0</td>\n",
       "      <td>41.924074</td>\n",
       "      <td>-87.646278</td>\n",
       "      <td>41.930000</td>\n",
       "      <td>-87.640000</td>\n",
       "      <td>member</td>\n",
       "    </tr>\n",
       "    <tr>\n",
       "      <th>1</th>\n",
       "      <td>13CB7EB698CEDB88</td>\n",
       "      <td>classic_bike</td>\n",
       "      <td>2023-01-10 15:37:36</td>\n",
       "      <td>2023-01-10 15:46:05</td>\n",
       "      <td>Kimbark Ave &amp; 53rd St</td>\n",
       "      <td>TA1309000037</td>\n",
       "      <td>Greenwood Ave &amp; 47th St</td>\n",
       "      <td>TA1308000002</td>\n",
       "      <td>41.799568</td>\n",
       "      <td>-87.594747</td>\n",
       "      <td>41.809835</td>\n",
       "      <td>-87.599383</td>\n",
       "      <td>member</td>\n",
       "    </tr>\n",
       "    <tr>\n",
       "      <th>2</th>\n",
       "      <td>BD88A2E670661CE5</td>\n",
       "      <td>electric_bike</td>\n",
       "      <td>2023-01-02 07:51:57</td>\n",
       "      <td>2023-01-02 08:05:11</td>\n",
       "      <td>Western Ave &amp; Lunt Ave</td>\n",
       "      <td>RP-005</td>\n",
       "      <td>Valli Produce - Evanston Plaza</td>\n",
       "      <td>599</td>\n",
       "      <td>42.008571</td>\n",
       "      <td>-87.690483</td>\n",
       "      <td>42.039742</td>\n",
       "      <td>-87.699413</td>\n",
       "      <td>casual</td>\n",
       "    </tr>\n",
       "    <tr>\n",
       "      <th>3</th>\n",
       "      <td>C90792D034FED968</td>\n",
       "      <td>classic_bike</td>\n",
       "      <td>2023-01-22 10:52:58</td>\n",
       "      <td>2023-01-22 11:01:44</td>\n",
       "      <td>Kimbark Ave &amp; 53rd St</td>\n",
       "      <td>TA1309000037</td>\n",
       "      <td>Greenwood Ave &amp; 47th St</td>\n",
       "      <td>TA1308000002</td>\n",
       "      <td>41.799568</td>\n",
       "      <td>-87.594747</td>\n",
       "      <td>41.809835</td>\n",
       "      <td>-87.599383</td>\n",
       "      <td>member</td>\n",
       "    </tr>\n",
       "    <tr>\n",
       "      <th>4</th>\n",
       "      <td>3397017529188E8A</td>\n",
       "      <td>classic_bike</td>\n",
       "      <td>2023-01-12 13:58:01</td>\n",
       "      <td>2023-01-12 14:13:20</td>\n",
       "      <td>Kimbark Ave &amp; 53rd St</td>\n",
       "      <td>TA1309000037</td>\n",
       "      <td>Greenwood Ave &amp; 47th St</td>\n",
       "      <td>TA1308000002</td>\n",
       "      <td>41.799568</td>\n",
       "      <td>-87.594747</td>\n",
       "      <td>41.809835</td>\n",
       "      <td>-87.599383</td>\n",
       "      <td>member</td>\n",
       "    </tr>\n",
       "  </tbody>\n",
       "</table>\n",
       "</div>"
      ],
      "text/plain": [
       "            ride_id  rideable_type           started_at             ended_at  \\\n",
       "0  F96D5A74A3E41399  electric_bike  2023-01-21 20:05:42  2023-01-21 20:16:33   \n",
       "1  13CB7EB698CEDB88   classic_bike  2023-01-10 15:37:36  2023-01-10 15:46:05   \n",
       "2  BD88A2E670661CE5  electric_bike  2023-01-02 07:51:57  2023-01-02 08:05:11   \n",
       "3  C90792D034FED968   classic_bike  2023-01-22 10:52:58  2023-01-22 11:01:44   \n",
       "4  3397017529188E8A   classic_bike  2023-01-12 13:58:01  2023-01-12 14:13:20   \n",
       "\n",
       "            start_station_name start_station_id  \\\n",
       "0  Lincoln Ave & Fullerton Ave     TA1309000058   \n",
       "1        Kimbark Ave & 53rd St     TA1309000037   \n",
       "2       Western Ave & Lunt Ave           RP-005   \n",
       "3        Kimbark Ave & 53rd St     TA1309000037   \n",
       "4        Kimbark Ave & 53rd St     TA1309000037   \n",
       "\n",
       "                 end_station_name end_station_id  start_lat  start_lng  \\\n",
       "0       Hampden Ct & Diversey Ave       202480.0  41.924074 -87.646278   \n",
       "1         Greenwood Ave & 47th St   TA1308000002  41.799568 -87.594747   \n",
       "2  Valli Produce - Evanston Plaza            599  42.008571 -87.690483   \n",
       "3         Greenwood Ave & 47th St   TA1308000002  41.799568 -87.594747   \n",
       "4         Greenwood Ave & 47th St   TA1308000002  41.799568 -87.594747   \n",
       "\n",
       "     end_lat    end_lng member_casual  \n",
       "0  41.930000 -87.640000        member  \n",
       "1  41.809835 -87.599383        member  \n",
       "2  42.039742 -87.699413        casual  \n",
       "3  41.809835 -87.599383        member  \n",
       "4  41.809835 -87.599383        member  "
      ]
     },
     "execution_count": 4,
     "metadata": {},
     "output_type": "execute_result"
    }
   ],
   "source": [
    "#Checking the first 5 rows\n",
    "annual_data.head()"
   ]
  },
  {
   "cell_type": "code",
   "execution_count": 5,
   "id": "287f336c-0d63-49d3-ace3-6d901327c842",
   "metadata": {},
   "outputs": [
    {
     "name": "stdout",
     "output_type": "stream",
     "text": [
      "<class 'pandas.core.frame.DataFrame'>\n",
      "RangeIndex: 5719877 entries, 0 to 5719876\n",
      "Data columns (total 13 columns):\n",
      " #   Column              Dtype  \n",
      "---  ------              -----  \n",
      " 0   ride_id             object \n",
      " 1   rideable_type       object \n",
      " 2   started_at          object \n",
      " 3   ended_at            object \n",
      " 4   start_station_name  object \n",
      " 5   start_station_id    object \n",
      " 6   end_station_name    object \n",
      " 7   end_station_id      object \n",
      " 8   start_lat           float64\n",
      " 9   start_lng           float64\n",
      " 10  end_lat             float64\n",
      " 11  end_lng             float64\n",
      " 12  member_casual       object \n",
      "dtypes: float64(4), object(9)\n",
      "memory usage: 567.3+ MB\n"
     ]
    }
   ],
   "source": [
    "# checking data types\n",
    "annual_data.info()"
   ]
  },
  {
   "cell_type": "markdown",
   "id": "472d3f7a-d866-41b2-9cd3-199842e8b8b4",
   "metadata": {},
   "source": [
    "**Insights:** There are some rows with missing values, and there are some data types that need to be changed.\n",
    "The ended_at and Started_at variable data types need to be changed from objects to datetime"
   ]
  },
  {
   "cell_type": "markdown",
   "id": "b25f83ec-b65d-490a-bd09-6dc270f449d3",
   "metadata": {},
   "source": [
    "### *Changing the data types*"
   ]
  },
  {
   "cell_type": "code",
   "execution_count": 6,
   "id": "cc691c54-0e72-4bbe-82da-4b3a1531a383",
   "metadata": {
    "scrolled": true
   },
   "outputs": [],
   "source": [
    "# Change the started_at and ended_at variables to datetime data types\n",
    "annual_data[\"started_at\"] = pd.to_datetime(annual_data[\"started_at\"])\n",
    "annual_data[\"ended_at\"] = pd.to_datetime(annual_data[\"ended_at\"])"
   ]
  },
  {
   "cell_type": "code",
   "execution_count": 7,
   "id": "7e7f68b0-432d-4175-a428-8397ccd778ab",
   "metadata": {},
   "outputs": [
    {
     "name": "stdout",
     "output_type": "stream",
     "text": [
      "<class 'pandas.core.frame.DataFrame'>\n",
      "RangeIndex: 5719877 entries, 0 to 5719876\n",
      "Data columns (total 13 columns):\n",
      " #   Column              Dtype         \n",
      "---  ------              -----         \n",
      " 0   ride_id             object        \n",
      " 1   rideable_type       object        \n",
      " 2   started_at          datetime64[ns]\n",
      " 3   ended_at            datetime64[ns]\n",
      " 4   start_station_name  object        \n",
      " 5   start_station_id    object        \n",
      " 6   end_station_name    object        \n",
      " 7   end_station_id      object        \n",
      " 8   start_lat           float64       \n",
      " 9   start_lng           float64       \n",
      " 10  end_lat             float64       \n",
      " 11  end_lng             float64       \n",
      " 12  member_casual       object        \n",
      "dtypes: datetime64[ns](2), float64(4), object(7)\n",
      "memory usage: 567.3+ MB\n"
     ]
    }
   ],
   "source": [
    "#confirming that the data types changed\n",
    "annual_data.info()"
   ]
  },
  {
   "cell_type": "markdown",
   "id": "1322dc02-882a-4c30-8dae-e74998a10b07",
   "metadata": {},
   "source": [
    "### *Dealing with Missing Values*"
   ]
  },
  {
   "cell_type": "code",
   "execution_count": 8,
   "id": "e8afff83-dd29-4894-b0fb-d3cb6d688081",
   "metadata": {},
   "outputs": [
    {
     "data": {
      "text/plain": [
       "ride_id                    0\n",
       "rideable_type              0\n",
       "started_at                 0\n",
       "ended_at                   0\n",
       "start_station_name    875716\n",
       "start_station_id      875848\n",
       "end_station_name      929202\n",
       "end_station_id        929343\n",
       "start_lat                  0\n",
       "start_lng                  0\n",
       "end_lat                 6990\n",
       "end_lng                 6990\n",
       "member_casual              0\n",
       "dtype: int64"
      ]
     },
     "execution_count": 8,
     "metadata": {},
     "output_type": "execute_result"
    }
   ],
   "source": [
    "#checking missing values for each column\n",
    "annual_data.isna().sum()"
   ]
  },
  {
   "cell_type": "markdown",
   "id": "85e2eebf-4964-45cd-9245-048353171af3",
   "metadata": {},
   "source": [
    "There are six columns with missing values. The station IDs and names have the highest number of missing values. The rows with missing values will be dropped since we cannot get the right data to fill them. Since the dataset is large and the rows with missing values are few dropping them won't affect the analysis outcome."
   ]
  },
  {
   "cell_type": "code",
   "execution_count": 9,
   "id": "64706932-9b0d-46cf-b469-e99af4fa0c40",
   "metadata": {},
   "outputs": [],
   "source": [
    "#dropping the missing values\n",
    "df1 = annual_data.dropna()"
   ]
  },
  {
   "cell_type": "code",
   "execution_count": 10,
   "id": "c9ba8d70-4239-4478-ac4a-7a738060d611",
   "metadata": {},
   "outputs": [
    {
     "data": {
      "text/plain": [
       "ride_id               0\n",
       "rideable_type         0\n",
       "started_at            0\n",
       "ended_at              0\n",
       "start_station_name    0\n",
       "start_station_id      0\n",
       "end_station_name      0\n",
       "end_station_id        0\n",
       "start_lat             0\n",
       "start_lng             0\n",
       "end_lat               0\n",
       "end_lng               0\n",
       "member_casual         0\n",
       "dtype: int64"
      ]
     },
     "execution_count": 10,
     "metadata": {},
     "output_type": "execute_result"
    }
   ],
   "source": [
    "#Confirming that the rows with missing values are dropped\n",
    "df1.isna().sum()"
   ]
  },
  {
   "cell_type": "markdown",
   "id": "5c144429-12ea-4abf-8994-011a15d6f796",
   "metadata": {},
   "source": [
    "The rows with missing values were all dropped."
   ]
  },
  {
   "cell_type": "markdown",
   "id": "a077294a-3f5b-4ce5-9842-49208d13f1f3",
   "metadata": {},
   "source": [
    "### *Creating new variables*"
   ]
  },
  {
   "cell_type": "markdown",
   "id": "b19da915-fbcd-4cc3-9ff2-e63e239f1f5e",
   "metadata": {},
   "source": [
    "We need to create the ride duration variable by subtracting the ended_at variable from the started_at variable. We shall also create a week day name variable from the started_at variable."
   ]
  },
  {
   "cell_type": "code",
   "execution_count": 13,
   "id": "758ddef1-3655-4ac2-bb95-fdcfa27e4451",
   "metadata": {},
   "outputs": [],
   "source": [
    "#Creating a duration variable\n",
    "df1[\"duration\"] = (df1[\"ended_at\"]-df1[\"started_at\"]).dt.total_seconds()/60"
   ]
  },
  {
   "cell_type": "code",
   "execution_count": 14,
   "id": "4dd1e1bd-4062-47b1-a3bd-f6553b4c94bd",
   "metadata": {},
   "outputs": [],
   "source": [
    "#creating the weekday variable\n",
    "df1[\"weekday\"] = df1[\"started_at\"].dt.day_name()"
   ]
  },
  {
   "cell_type": "code",
   "execution_count": 15,
   "id": "5028e46b-ec5a-408a-96bc-253cf27444f0",
   "metadata": {},
   "outputs": [
    {
     "data": {
      "text/html": [
       "<div>\n",
       "<style scoped>\n",
       "    .dataframe tbody tr th:only-of-type {\n",
       "        vertical-align: middle;\n",
       "    }\n",
       "\n",
       "    .dataframe tbody tr th {\n",
       "        vertical-align: top;\n",
       "    }\n",
       "\n",
       "    .dataframe thead th {\n",
       "        text-align: right;\n",
       "    }\n",
       "</style>\n",
       "<table border=\"1\" class=\"dataframe\">\n",
       "  <thead>\n",
       "    <tr style=\"text-align: right;\">\n",
       "      <th></th>\n",
       "      <th>ride_id</th>\n",
       "      <th>rideable_type</th>\n",
       "      <th>started_at</th>\n",
       "      <th>ended_at</th>\n",
       "      <th>start_station_name</th>\n",
       "      <th>start_station_id</th>\n",
       "      <th>end_station_name</th>\n",
       "      <th>end_station_id</th>\n",
       "      <th>start_lat</th>\n",
       "      <th>start_lng</th>\n",
       "      <th>end_lat</th>\n",
       "      <th>end_lng</th>\n",
       "      <th>member_casual</th>\n",
       "      <th>duration</th>\n",
       "      <th>weekday</th>\n",
       "    </tr>\n",
       "  </thead>\n",
       "  <tbody>\n",
       "    <tr>\n",
       "      <th>0</th>\n",
       "      <td>F96D5A74A3E41399</td>\n",
       "      <td>electric_bike</td>\n",
       "      <td>2023-01-21 20:05:42</td>\n",
       "      <td>2023-01-21 20:16:33</td>\n",
       "      <td>Lincoln Ave &amp; Fullerton Ave</td>\n",
       "      <td>TA1309000058</td>\n",
       "      <td>Hampden Ct &amp; Diversey Ave</td>\n",
       "      <td>202480.0</td>\n",
       "      <td>41.924074</td>\n",
       "      <td>-87.646278</td>\n",
       "      <td>41.930000</td>\n",
       "      <td>-87.640000</td>\n",
       "      <td>member</td>\n",
       "      <td>10.850000</td>\n",
       "      <td>Saturday</td>\n",
       "    </tr>\n",
       "    <tr>\n",
       "      <th>1</th>\n",
       "      <td>13CB7EB698CEDB88</td>\n",
       "      <td>classic_bike</td>\n",
       "      <td>2023-01-10 15:37:36</td>\n",
       "      <td>2023-01-10 15:46:05</td>\n",
       "      <td>Kimbark Ave &amp; 53rd St</td>\n",
       "      <td>TA1309000037</td>\n",
       "      <td>Greenwood Ave &amp; 47th St</td>\n",
       "      <td>TA1308000002</td>\n",
       "      <td>41.799568</td>\n",
       "      <td>-87.594747</td>\n",
       "      <td>41.809835</td>\n",
       "      <td>-87.599383</td>\n",
       "      <td>member</td>\n",
       "      <td>8.483333</td>\n",
       "      <td>Tuesday</td>\n",
       "    </tr>\n",
       "    <tr>\n",
       "      <th>2</th>\n",
       "      <td>BD88A2E670661CE5</td>\n",
       "      <td>electric_bike</td>\n",
       "      <td>2023-01-02 07:51:57</td>\n",
       "      <td>2023-01-02 08:05:11</td>\n",
       "      <td>Western Ave &amp; Lunt Ave</td>\n",
       "      <td>RP-005</td>\n",
       "      <td>Valli Produce - Evanston Plaza</td>\n",
       "      <td>599</td>\n",
       "      <td>42.008571</td>\n",
       "      <td>-87.690483</td>\n",
       "      <td>42.039742</td>\n",
       "      <td>-87.699413</td>\n",
       "      <td>casual</td>\n",
       "      <td>13.233333</td>\n",
       "      <td>Monday</td>\n",
       "    </tr>\n",
       "    <tr>\n",
       "      <th>3</th>\n",
       "      <td>C90792D034FED968</td>\n",
       "      <td>classic_bike</td>\n",
       "      <td>2023-01-22 10:52:58</td>\n",
       "      <td>2023-01-22 11:01:44</td>\n",
       "      <td>Kimbark Ave &amp; 53rd St</td>\n",
       "      <td>TA1309000037</td>\n",
       "      <td>Greenwood Ave &amp; 47th St</td>\n",
       "      <td>TA1308000002</td>\n",
       "      <td>41.799568</td>\n",
       "      <td>-87.594747</td>\n",
       "      <td>41.809835</td>\n",
       "      <td>-87.599383</td>\n",
       "      <td>member</td>\n",
       "      <td>8.766667</td>\n",
       "      <td>Sunday</td>\n",
       "    </tr>\n",
       "    <tr>\n",
       "      <th>4</th>\n",
       "      <td>3397017529188E8A</td>\n",
       "      <td>classic_bike</td>\n",
       "      <td>2023-01-12 13:58:01</td>\n",
       "      <td>2023-01-12 14:13:20</td>\n",
       "      <td>Kimbark Ave &amp; 53rd St</td>\n",
       "      <td>TA1309000037</td>\n",
       "      <td>Greenwood Ave &amp; 47th St</td>\n",
       "      <td>TA1308000002</td>\n",
       "      <td>41.799568</td>\n",
       "      <td>-87.594747</td>\n",
       "      <td>41.809835</td>\n",
       "      <td>-87.599383</td>\n",
       "      <td>member</td>\n",
       "      <td>15.316667</td>\n",
       "      <td>Thursday</td>\n",
       "    </tr>\n",
       "  </tbody>\n",
       "</table>\n",
       "</div>"
      ],
      "text/plain": [
       "            ride_id  rideable_type          started_at            ended_at  \\\n",
       "0  F96D5A74A3E41399  electric_bike 2023-01-21 20:05:42 2023-01-21 20:16:33   \n",
       "1  13CB7EB698CEDB88   classic_bike 2023-01-10 15:37:36 2023-01-10 15:46:05   \n",
       "2  BD88A2E670661CE5  electric_bike 2023-01-02 07:51:57 2023-01-02 08:05:11   \n",
       "3  C90792D034FED968   classic_bike 2023-01-22 10:52:58 2023-01-22 11:01:44   \n",
       "4  3397017529188E8A   classic_bike 2023-01-12 13:58:01 2023-01-12 14:13:20   \n",
       "\n",
       "            start_station_name start_station_id  \\\n",
       "0  Lincoln Ave & Fullerton Ave     TA1309000058   \n",
       "1        Kimbark Ave & 53rd St     TA1309000037   \n",
       "2       Western Ave & Lunt Ave           RP-005   \n",
       "3        Kimbark Ave & 53rd St     TA1309000037   \n",
       "4        Kimbark Ave & 53rd St     TA1309000037   \n",
       "\n",
       "                 end_station_name end_station_id  start_lat  start_lng  \\\n",
       "0       Hampden Ct & Diversey Ave       202480.0  41.924074 -87.646278   \n",
       "1         Greenwood Ave & 47th St   TA1308000002  41.799568 -87.594747   \n",
       "2  Valli Produce - Evanston Plaza            599  42.008571 -87.690483   \n",
       "3         Greenwood Ave & 47th St   TA1308000002  41.799568 -87.594747   \n",
       "4         Greenwood Ave & 47th St   TA1308000002  41.799568 -87.594747   \n",
       "\n",
       "     end_lat    end_lng member_casual   duration   weekday  \n",
       "0  41.930000 -87.640000        member  10.850000  Saturday  \n",
       "1  41.809835 -87.599383        member   8.483333   Tuesday  \n",
       "2  42.039742 -87.699413        casual  13.233333    Monday  \n",
       "3  41.809835 -87.599383        member   8.766667    Sunday  \n",
       "4  41.809835 -87.599383        member  15.316667  Thursday  "
      ]
     },
     "execution_count": 15,
     "metadata": {},
     "output_type": "execute_result"
    }
   ],
   "source": [
    "#Checking the first few columns of the complete and consistent data\n",
    "df1.head()"
   ]
  },
  {
   "cell_type": "markdown",
   "id": "354d8d89-ef8d-4d1b-9ffb-91a937ee3a53",
   "metadata": {},
   "source": [
    "### *Investigating the presence of outliers*"
   ]
  },
  {
   "cell_type": "markdown",
   "id": "828f0f25-90a9-40da-8ba1-a34fc6e2e530",
   "metadata": {},
   "source": [
    "Since we now have a continuous variable (duration), we need to investigate if there might be outliers in the data."
   ]
  },
  {
   "cell_type": "code",
   "execution_count": 16,
   "id": "7665f6ac-bfa0-4749-9adb-da6b1f19b6c3",
   "metadata": {},
   "outputs": [
    {
     "data": {
      "text/html": [
       "<div>\n",
       "<style scoped>\n",
       "    .dataframe tbody tr th:only-of-type {\n",
       "        vertical-align: middle;\n",
       "    }\n",
       "\n",
       "    .dataframe tbody tr th {\n",
       "        vertical-align: top;\n",
       "    }\n",
       "\n",
       "    .dataframe thead th {\n",
       "        text-align: right;\n",
       "    }\n",
       "</style>\n",
       "<table border=\"1\" class=\"dataframe\">\n",
       "  <thead>\n",
       "    <tr style=\"text-align: right;\">\n",
       "      <th></th>\n",
       "      <th>started_at</th>\n",
       "      <th>ended_at</th>\n",
       "      <th>start_lat</th>\n",
       "      <th>start_lng</th>\n",
       "      <th>end_lat</th>\n",
       "      <th>end_lng</th>\n",
       "      <th>duration</th>\n",
       "    </tr>\n",
       "  </thead>\n",
       "  <tbody>\n",
       "    <tr>\n",
       "      <th>count</th>\n",
       "      <td>4331707</td>\n",
       "      <td>4331707</td>\n",
       "      <td>4.331707e+06</td>\n",
       "      <td>4.331707e+06</td>\n",
       "      <td>4.331707e+06</td>\n",
       "      <td>4.331707e+06</td>\n",
       "      <td>4.331707e+06</td>\n",
       "    </tr>\n",
       "    <tr>\n",
       "      <th>mean</th>\n",
       "      <td>2023-07-15 19:09:13.486048</td>\n",
       "      <td>2023-07-15 19:25:10.596928768</td>\n",
       "      <td>4.190095e+01</td>\n",
       "      <td>-8.764466e+01</td>\n",
       "      <td>4.190137e+01</td>\n",
       "      <td>-8.764487e+01</td>\n",
       "      <td>1.595185e+01</td>\n",
       "    </tr>\n",
       "    <tr>\n",
       "      <th>min</th>\n",
       "      <td>2023-01-01 00:02:06</td>\n",
       "      <td>2023-01-01 00:07:23</td>\n",
       "      <td>4.164850e+01</td>\n",
       "      <td>-8.784409e+01</td>\n",
       "      <td>0.000000e+00</td>\n",
       "      <td>-8.784406e+01</td>\n",
       "      <td>-5.456667e+01</td>\n",
       "    </tr>\n",
       "    <tr>\n",
       "      <th>25%</th>\n",
       "      <td>2023-05-20 13:02:18</td>\n",
       "      <td>2023-05-20 13:23:20.500000</td>\n",
       "      <td>4.188090e+01</td>\n",
       "      <td>-8.765766e+01</td>\n",
       "      <td>4.188096e+01</td>\n",
       "      <td>-8.765842e+01</td>\n",
       "      <td>5.616667e+00</td>\n",
       "    </tr>\n",
       "    <tr>\n",
       "      <th>50%</th>\n",
       "      <td>2023-07-20 15:12:22</td>\n",
       "      <td>2023-07-20 15:29:43</td>\n",
       "      <td>4.189636e+01</td>\n",
       "      <td>-8.764170e+01</td>\n",
       "      <td>4.189662e+01</td>\n",
       "      <td>-8.764182e+01</td>\n",
       "      <td>9.800000e+00</td>\n",
       "    </tr>\n",
       "    <tr>\n",
       "      <th>75%</th>\n",
       "      <td>2023-09-16 16:19:20.500000</td>\n",
       "      <td>2023-09-16 16:39:39</td>\n",
       "      <td>4.192677e+01</td>\n",
       "      <td>-8.762858e+01</td>\n",
       "      <td>4.192877e+01</td>\n",
       "      <td>-8.762858e+01</td>\n",
       "      <td>1.748333e+01</td>\n",
       "    </tr>\n",
       "    <tr>\n",
       "      <th>max</th>\n",
       "      <td>2023-12-31 23:58:55</td>\n",
       "      <td>2024-01-01 14:20:23</td>\n",
       "      <td>4.206487e+01</td>\n",
       "      <td>-8.752823e+01</td>\n",
       "      <td>4.206485e+01</td>\n",
       "      <td>0.000000e+00</td>\n",
       "      <td>1.213630e+04</td>\n",
       "    </tr>\n",
       "    <tr>\n",
       "      <th>std</th>\n",
       "      <td>NaN</td>\n",
       "      <td>NaN</td>\n",
       "      <td>4.301374e-02</td>\n",
       "      <td>2.490093e-02</td>\n",
       "      <td>5.549544e-02</td>\n",
       "      <td>7.712000e-02</td>\n",
       "      <td>3.608719e+01</td>\n",
       "    </tr>\n",
       "  </tbody>\n",
       "</table>\n",
       "</div>"
      ],
      "text/plain": [
       "                       started_at                       ended_at  \\\n",
       "count                     4331707                        4331707   \n",
       "mean   2023-07-15 19:09:13.486048  2023-07-15 19:25:10.596928768   \n",
       "min           2023-01-01 00:02:06            2023-01-01 00:07:23   \n",
       "25%           2023-05-20 13:02:18     2023-05-20 13:23:20.500000   \n",
       "50%           2023-07-20 15:12:22            2023-07-20 15:29:43   \n",
       "75%    2023-09-16 16:19:20.500000            2023-09-16 16:39:39   \n",
       "max           2023-12-31 23:58:55            2024-01-01 14:20:23   \n",
       "std                           NaN                            NaN   \n",
       "\n",
       "          start_lat     start_lng       end_lat       end_lng      duration  \n",
       "count  4.331707e+06  4.331707e+06  4.331707e+06  4.331707e+06  4.331707e+06  \n",
       "mean   4.190095e+01 -8.764466e+01  4.190137e+01 -8.764487e+01  1.595185e+01  \n",
       "min    4.164850e+01 -8.784409e+01  0.000000e+00 -8.784406e+01 -5.456667e+01  \n",
       "25%    4.188090e+01 -8.765766e+01  4.188096e+01 -8.765842e+01  5.616667e+00  \n",
       "50%    4.189636e+01 -8.764170e+01  4.189662e+01 -8.764182e+01  9.800000e+00  \n",
       "75%    4.192677e+01 -8.762858e+01  4.192877e+01 -8.762858e+01  1.748333e+01  \n",
       "max    4.206487e+01 -8.752823e+01  4.206485e+01  0.000000e+00  1.213630e+04  \n",
       "std    4.301374e-02  2.490093e-02  5.549544e-02  7.712000e-02  3.608719e+01  "
      ]
     },
     "execution_count": 16,
     "metadata": {},
     "output_type": "execute_result"
    }
   ],
   "source": [
    "#Checking the data summary\n",
    "df1.describe()"
   ]
  },
  {
   "cell_type": "code",
   "execution_count": 24,
   "id": "c97c4646-d312-4f92-89e3-75edeb12dc31",
   "metadata": {},
   "outputs": [
    {
     "data": {
      "text/plain": [
       "[Text(0.5, 1.0, 'Duration Distriution')]"
      ]
     },
     "execution_count": 24,
     "metadata": {},
     "output_type": "execute_result"
    },
    {
     "data": {
      "image/png": "[encoded data removed]",
      "text/plain": [
       "<Figure size 1000x500 with 1 Axes>"
      ]
     },
     "metadata": {},
     "output_type": "display_data"
    }
   ],
   "source": [
    "#creating a boxplot for the duration variable\n",
    "plt.figure(figsize = (10,5))\n",
    "sns.set(style=\"whitegrid\")\n",
    "sns.boxplot(x =df1[\"duration\"]).set(title= \"Duration Distriution\")"
   ]
  },
  {
   "cell_type": "markdown",
   "id": "c744892e-3d6f-4bd6-a111-b02fb1c84ce4",
   "metadata": {},
   "source": [
    "The Box plot shows that our dataset may contain some outliers. Some extreme values are in the upper end of the data, but a rider can borrow a bike for a long time. Therefore, the extreme values on the upper end were not dropped. The summary statistics show some observations where the duration variable is negative.  The negative values in the duration column are an error because there is no way that the start time should be greater than the end time. Therefore, we will drop all rows where the duration is less than 0."
   ]
  },
  {
   "cell_type": "code",
   "execution_count": 19,
   "id": "01893eb5-a005-45f2-bf59-a76abf67234e",
   "metadata": {},
   "outputs": [
    {
     "data": {
      "text/html": [
       "<div>\n",
       "<style scoped>\n",
       "    .dataframe tbody tr th:only-of-type {\n",
       "        vertical-align: middle;\n",
       "    }\n",
       "\n",
       "    .dataframe tbody tr th {\n",
       "        vertical-align: top;\n",
       "    }\n",
       "\n",
       "    .dataframe thead th {\n",
       "        text-align: right;\n",
       "    }\n",
       "</style>\n",
       "<table border=\"1\" class=\"dataframe\">\n",
       "  <thead>\n",
       "    <tr style=\"text-align: right;\">\n",
       "      <th></th>\n",
       "      <th>ride_id</th>\n",
       "      <th>rideable_type</th>\n",
       "      <th>started_at</th>\n",
       "      <th>ended_at</th>\n",
       "      <th>start_station_name</th>\n",
       "      <th>start_station_id</th>\n",
       "      <th>end_station_name</th>\n",
       "      <th>end_station_id</th>\n",
       "      <th>start_lat</th>\n",
       "      <th>start_lng</th>\n",
       "      <th>end_lat</th>\n",
       "      <th>end_lng</th>\n",
       "      <th>member_casual</th>\n",
       "      <th>duration</th>\n",
       "      <th>weekday</th>\n",
       "    </tr>\n",
       "  </thead>\n",
       "  <tbody>\n",
       "    <tr>\n",
       "      <th>1001391</th>\n",
       "      <td>7A4D237E2C99D424</td>\n",
       "      <td>electric_bike</td>\n",
       "      <td>2023-04-04 17:15:08</td>\n",
       "      <td>2023-04-04 17:15:05</td>\n",
       "      <td>Green St &amp; Randolph St*</td>\n",
       "      <td>chargingstx3</td>\n",
       "      <td>Green St &amp; Randolph St*</td>\n",
       "      <td>chargingstx3</td>\n",
       "      <td>41.883615</td>\n",
       "      <td>-87.648556</td>\n",
       "      <td>41.883602</td>\n",
       "      <td>-87.648627</td>\n",
       "      <td>member</td>\n",
       "      <td>-0.050000</td>\n",
       "      <td>Tuesday</td>\n",
       "    </tr>\n",
       "    <tr>\n",
       "      <th>1001407</th>\n",
       "      <td>81E1C5175FA5A23D</td>\n",
       "      <td>classic_bike</td>\n",
       "      <td>2023-04-19 14:47:18</td>\n",
       "      <td>2023-04-19 14:47:14</td>\n",
       "      <td>Green St &amp; Randolph St*</td>\n",
       "      <td>chargingstx3</td>\n",
       "      <td>Green St &amp; Randolph St*</td>\n",
       "      <td>chargingstx3</td>\n",
       "      <td>41.883602</td>\n",
       "      <td>-87.648627</td>\n",
       "      <td>41.883602</td>\n",
       "      <td>-87.648627</td>\n",
       "      <td>member</td>\n",
       "      <td>-0.066667</td>\n",
       "      <td>Wednesday</td>\n",
       "    </tr>\n",
       "    <tr>\n",
       "      <th>1001487</th>\n",
       "      <td>0063C3704F56EC55</td>\n",
       "      <td>electric_bike</td>\n",
       "      <td>2023-04-27 07:51:14</td>\n",
       "      <td>2023-04-27 07:51:09</td>\n",
       "      <td>Green St &amp; Randolph St*</td>\n",
       "      <td>chargingstx3</td>\n",
       "      <td>Green St &amp; Randolph St*</td>\n",
       "      <td>chargingstx3</td>\n",
       "      <td>41.883460</td>\n",
       "      <td>-87.648600</td>\n",
       "      <td>41.883602</td>\n",
       "      <td>-87.648627</td>\n",
       "      <td>casual</td>\n",
       "      <td>-0.083333</td>\n",
       "      <td>Thursday</td>\n",
       "    </tr>\n",
       "    <tr>\n",
       "      <th>1074322</th>\n",
       "      <td>934174DB8E2AD791</td>\n",
       "      <td>classic_bike</td>\n",
       "      <td>2023-05-29 17:34:21</td>\n",
       "      <td>2023-05-29 17:34:09</td>\n",
       "      <td>Lakefront Trail &amp; Bryn Mawr Ave</td>\n",
       "      <td>15576</td>\n",
       "      <td>Lakefront Trail &amp; Bryn Mawr Ave</td>\n",
       "      <td>15576</td>\n",
       "      <td>41.984044</td>\n",
       "      <td>-87.652281</td>\n",
       "      <td>41.984044</td>\n",
       "      <td>-87.652281</td>\n",
       "      <td>member</td>\n",
       "      <td>-0.200000</td>\n",
       "      <td>Monday</td>\n",
       "    </tr>\n",
       "    <tr>\n",
       "      <th>1275354</th>\n",
       "      <td>00AC4040E25E347E</td>\n",
       "      <td>classic_bike</td>\n",
       "      <td>2023-05-07 15:54:58</td>\n",
       "      <td>2023-05-07 15:54:47</td>\n",
       "      <td>Wentworth Ave &amp; Cermak Rd*</td>\n",
       "      <td>chargingstx07</td>\n",
       "      <td>Wentworth Ave &amp; Cermak Rd*</td>\n",
       "      <td>chargingstx07</td>\n",
       "      <td>41.853214</td>\n",
       "      <td>-87.631872</td>\n",
       "      <td>41.853214</td>\n",
       "      <td>-87.631872</td>\n",
       "      <td>casual</td>\n",
       "      <td>-0.183333</td>\n",
       "      <td>Sunday</td>\n",
       "    </tr>\n",
       "    <tr>\n",
       "      <th>...</th>\n",
       "      <td>...</td>\n",
       "      <td>...</td>\n",
       "      <td>...</td>\n",
       "      <td>...</td>\n",
       "      <td>...</td>\n",
       "      <td>...</td>\n",
       "      <td>...</td>\n",
       "      <td>...</td>\n",
       "      <td>...</td>\n",
       "      <td>...</td>\n",
       "      <td>...</td>\n",
       "      <td>...</td>\n",
       "      <td>...</td>\n",
       "      <td>...</td>\n",
       "      <td>...</td>\n",
       "    </tr>\n",
       "    <tr>\n",
       "      <th>5483380</th>\n",
       "      <td>83192DD2002545D0</td>\n",
       "      <td>classic_bike</td>\n",
       "      <td>2023-11-05 01:59:44</td>\n",
       "      <td>2023-11-05 01:12:56</td>\n",
       "      <td>Racine Ave &amp; 13th St</td>\n",
       "      <td>13165</td>\n",
       "      <td>Emerald Ave &amp; 31st St</td>\n",
       "      <td>TA1309000055</td>\n",
       "      <td>41.865054</td>\n",
       "      <td>-87.656959</td>\n",
       "      <td>41.838198</td>\n",
       "      <td>-87.645143</td>\n",
       "      <td>casual</td>\n",
       "      <td>-46.800000</td>\n",
       "      <td>Sunday</td>\n",
       "    </tr>\n",
       "    <tr>\n",
       "      <th>5515739</th>\n",
       "      <td>7C0E4814223D9710</td>\n",
       "      <td>electric_bike</td>\n",
       "      <td>2023-12-07 22:20:28</td>\n",
       "      <td>2023-12-07 22:05:49</td>\n",
       "      <td>Clifton Ave &amp; Armitage Ave</td>\n",
       "      <td>TA1307000163</td>\n",
       "      <td>W Armitage Ave &amp; N Sheffield Ave</td>\n",
       "      <td>20254.0</td>\n",
       "      <td>41.918226</td>\n",
       "      <td>-87.656975</td>\n",
       "      <td>41.917805</td>\n",
       "      <td>-87.653449</td>\n",
       "      <td>member</td>\n",
       "      <td>-14.650000</td>\n",
       "      <td>Thursday</td>\n",
       "    </tr>\n",
       "    <tr>\n",
       "      <th>5522160</th>\n",
       "      <td>C8877899E19F9ECE</td>\n",
       "      <td>classic_bike</td>\n",
       "      <td>2023-12-27 13:39:26</td>\n",
       "      <td>2023-12-27 13:39:25</td>\n",
       "      <td>State St &amp; Chicago Ave</td>\n",
       "      <td>21544</td>\n",
       "      <td>State St &amp; Chicago Ave</td>\n",
       "      <td>21544</td>\n",
       "      <td>41.896617</td>\n",
       "      <td>-87.628579</td>\n",
       "      <td>41.896617</td>\n",
       "      <td>-87.628579</td>\n",
       "      <td>member</td>\n",
       "      <td>-0.016667</td>\n",
       "      <td>Wednesday</td>\n",
       "    </tr>\n",
       "    <tr>\n",
       "      <th>5548757</th>\n",
       "      <td>DCA596368AD72625</td>\n",
       "      <td>electric_bike</td>\n",
       "      <td>2023-12-05 17:12:57</td>\n",
       "      <td>2023-12-05 17:12:45</td>\n",
       "      <td>Elston Ave &amp; Cortland St</td>\n",
       "      <td>TA1305000039</td>\n",
       "      <td>Elston Ave &amp; Cortland St</td>\n",
       "      <td>TA1305000039</td>\n",
       "      <td>41.916456</td>\n",
       "      <td>-87.666810</td>\n",
       "      <td>41.916433</td>\n",
       "      <td>-87.666746</td>\n",
       "      <td>member</td>\n",
       "      <td>-0.200000</td>\n",
       "      <td>Tuesday</td>\n",
       "    </tr>\n",
       "    <tr>\n",
       "      <th>5560475</th>\n",
       "      <td>0129ED570EF2C20E</td>\n",
       "      <td>classic_bike</td>\n",
       "      <td>2023-12-11 19:31:28</td>\n",
       "      <td>2023-12-11 19:31:27</td>\n",
       "      <td>Loomis St &amp; Lexington St</td>\n",
       "      <td>13332</td>\n",
       "      <td>Loomis St &amp; Lexington St</td>\n",
       "      <td>13332</td>\n",
       "      <td>41.872229</td>\n",
       "      <td>-87.661364</td>\n",
       "      <td>41.872229</td>\n",
       "      <td>-87.661364</td>\n",
       "      <td>member</td>\n",
       "      <td>-0.016667</td>\n",
       "      <td>Monday</td>\n",
       "    </tr>\n",
       "  </tbody>\n",
       "</table>\n",
       "<p>66 rows × 15 columns</p>\n",
       "</div>"
      ],
      "text/plain": [
       "                  ride_id  rideable_type          started_at  \\\n",
       "1001391  7A4D237E2C99D424  electric_bike 2023-04-04 17:15:08   \n",
       "1001407  81E1C5175FA5A23D   classic_bike 2023-04-19 14:47:18   \n",
       "1001487  0063C3704F56EC55  electric_bike 2023-04-27 07:51:14   \n",
       "1074322  934174DB8E2AD791   classic_bike 2023-05-29 17:34:21   \n",
       "1275354  00AC4040E25E347E   classic_bike 2023-05-07 15:54:58   \n",
       "...                   ...            ...                 ...   \n",
       "5483380  83192DD2002545D0   classic_bike 2023-11-05 01:59:44   \n",
       "5515739  7C0E4814223D9710  electric_bike 2023-12-07 22:20:28   \n",
       "5522160  C8877899E19F9ECE   classic_bike 2023-12-27 13:39:26   \n",
       "5548757  DCA596368AD72625  electric_bike 2023-12-05 17:12:57   \n",
       "5560475  0129ED570EF2C20E   classic_bike 2023-12-11 19:31:28   \n",
       "\n",
       "                   ended_at               start_station_name start_station_id  \\\n",
       "1001391 2023-04-04 17:15:05          Green St & Randolph St*     chargingstx3   \n",
       "1001407 2023-04-19 14:47:14          Green St & Randolph St*     chargingstx3   \n",
       "1001487 2023-04-27 07:51:09          Green St & Randolph St*     chargingstx3   \n",
       "1074322 2023-05-29 17:34:09  Lakefront Trail & Bryn Mawr Ave            15576   \n",
       "1275354 2023-05-07 15:54:47       Wentworth Ave & Cermak Rd*    chargingstx07   \n",
       "...                     ...                              ...              ...   \n",
       "5483380 2023-11-05 01:12:56             Racine Ave & 13th St            13165   \n",
       "5515739 2023-12-07 22:05:49       Clifton Ave & Armitage Ave     TA1307000163   \n",
       "5522160 2023-12-27 13:39:25           State St & Chicago Ave            21544   \n",
       "5548757 2023-12-05 17:12:45         Elston Ave & Cortland St     TA1305000039   \n",
       "5560475 2023-12-11 19:31:27         Loomis St & Lexington St            13332   \n",
       "\n",
       "                         end_station_name end_station_id  start_lat  \\\n",
       "1001391           Green St & Randolph St*   chargingstx3  41.883615   \n",
       "1001407           Green St & Randolph St*   chargingstx3  41.883602   \n",
       "1001487           Green St & Randolph St*   chargingstx3  41.883460   \n",
       "1074322   Lakefront Trail & Bryn Mawr Ave          15576  41.984044   \n",
       "1275354        Wentworth Ave & Cermak Rd*  chargingstx07  41.853214   \n",
       "...                                   ...            ...        ...   \n",
       "5483380             Emerald Ave & 31st St   TA1309000055  41.865054   \n",
       "5515739  W Armitage Ave & N Sheffield Ave        20254.0  41.918226   \n",
       "5522160            State St & Chicago Ave          21544  41.896617   \n",
       "5548757          Elston Ave & Cortland St   TA1305000039  41.916456   \n",
       "5560475          Loomis St & Lexington St          13332  41.872229   \n",
       "\n",
       "         start_lng    end_lat    end_lng member_casual   duration    weekday  \n",
       "1001391 -87.648556  41.883602 -87.648627        member  -0.050000    Tuesday  \n",
       "1001407 -87.648627  41.883602 -87.648627        member  -0.066667  Wednesday  \n",
       "1001487 -87.648600  41.883602 -87.648627        casual  -0.083333   Thursday  \n",
       "1074322 -87.652281  41.984044 -87.652281        member  -0.200000     Monday  \n",
       "1275354 -87.631872  41.853214 -87.631872        casual  -0.183333     Sunday  \n",
       "...            ...        ...        ...           ...        ...        ...  \n",
       "5483380 -87.656959  41.838198 -87.645143        casual -46.800000     Sunday  \n",
       "5515739 -87.656975  41.917805 -87.653449        member -14.650000   Thursday  \n",
       "5522160 -87.628579  41.896617 -87.628579        member  -0.016667  Wednesday  \n",
       "5548757 -87.666810  41.916433 -87.666746        member  -0.200000    Tuesday  \n",
       "5560475 -87.661364  41.872229 -87.661364        member  -0.016667     Monday  \n",
       "\n",
       "[66 rows x 15 columns]"
      ]
     },
     "execution_count": 19,
     "metadata": {},
     "output_type": "execute_result"
    }
   ],
   "source": [
    "#Isolating the rows with a negative ride duration\n",
    "df1[df1[\"duration\"] < 0]"
   ]
  },
  {
   "cell_type": "markdown",
   "id": "70ea8651-661b-4603-8c7e-8e95133a52d4",
   "metadata": {},
   "source": [
    "There are 66 rows where the ride duration is negative. We need to drop all those rows."
   ]
  },
  {
   "cell_type": "code",
   "execution_count": 20,
   "id": "d94cef04-033a-41ed-9ea9-7c807b5c658c",
   "metadata": {},
   "outputs": [],
   "source": [
    "# Droping the rows where the ride duration is negative\n",
    "clean_data = df1[df1[\"duration\"] > 0]"
   ]
  },
  {
   "cell_type": "code",
   "execution_count": 26,
   "id": "1227434a-2558-4dd1-9275-353fe9bf72ed",
   "metadata": {},
   "outputs": [
    {
     "data": {
      "text/html": [
       "<div>\n",
       "<style scoped>\n",
       "    .dataframe tbody tr th:only-of-type {\n",
       "        vertical-align: middle;\n",
       "    }\n",
       "\n",
       "    .dataframe tbody tr th {\n",
       "        vertical-align: top;\n",
       "    }\n",
       "\n",
       "    .dataframe thead th {\n",
       "        text-align: right;\n",
       "    }\n",
       "</style>\n",
       "<table border=\"1\" class=\"dataframe\">\n",
       "  <thead>\n",
       "    <tr style=\"text-align: right;\">\n",
       "      <th></th>\n",
       "      <th>started_at</th>\n",
       "      <th>ended_at</th>\n",
       "      <th>start_lat</th>\n",
       "      <th>start_lng</th>\n",
       "      <th>end_lat</th>\n",
       "      <th>end_lng</th>\n",
       "      <th>duration</th>\n",
       "    </tr>\n",
       "  </thead>\n",
       "  <tbody>\n",
       "    <tr>\n",
       "      <th>count</th>\n",
       "      <td>4331138</td>\n",
       "      <td>4331138</td>\n",
       "      <td>4.331138e+06</td>\n",
       "      <td>4.331138e+06</td>\n",
       "      <td>4.331138e+06</td>\n",
       "      <td>4.331138e+06</td>\n",
       "      <td>4.331138e+06</td>\n",
       "    </tr>\n",
       "    <tr>\n",
       "      <th>mean</th>\n",
       "      <td>2023-07-15 19:03:01.081445120</td>\n",
       "      <td>2023-07-15 19:18:58.337543936</td>\n",
       "      <td>4.190095e+01</td>\n",
       "      <td>-8.764466e+01</td>\n",
       "      <td>4.190137e+01</td>\n",
       "      <td>-8.764487e+01</td>\n",
       "      <td>1.595427e+01</td>\n",
       "    </tr>\n",
       "    <tr>\n",
       "      <th>min</th>\n",
       "      <td>2023-01-01 00:02:06</td>\n",
       "      <td>2023-01-01 00:07:23</td>\n",
       "      <td>4.164850e+01</td>\n",
       "      <td>-8.784409e+01</td>\n",
       "      <td>0.000000e+00</td>\n",
       "      <td>-8.784406e+01</td>\n",
       "      <td>1.666667e-02</td>\n",
       "    </tr>\n",
       "    <tr>\n",
       "      <th>25%</th>\n",
       "      <td>2023-05-20 12:58:52.249999872</td>\n",
       "      <td>2023-05-20 13:19:58</td>\n",
       "      <td>4.188090e+01</td>\n",
       "      <td>-8.765766e+01</td>\n",
       "      <td>4.188096e+01</td>\n",
       "      <td>-8.765842e+01</td>\n",
       "      <td>5.616667e+00</td>\n",
       "    </tr>\n",
       "    <tr>\n",
       "      <th>50%</th>\n",
       "      <td>2023-07-20 15:05:49.500000</td>\n",
       "      <td>2023-07-20 15:24:58.500000</td>\n",
       "      <td>4.189636e+01</td>\n",
       "      <td>-8.764170e+01</td>\n",
       "      <td>4.189662e+01</td>\n",
       "      <td>-8.764182e+01</td>\n",
       "      <td>9.800000e+00</td>\n",
       "    </tr>\n",
       "    <tr>\n",
       "      <th>75%</th>\n",
       "      <td>2023-09-16 16:16:11.750000128</td>\n",
       "      <td>2023-09-16 16:36:31.500000</td>\n",
       "      <td>4.192677e+01</td>\n",
       "      <td>-8.762858e+01</td>\n",
       "      <td>4.192877e+01</td>\n",
       "      <td>-8.762858e+01</td>\n",
       "      <td>1.748333e+01</td>\n",
       "    </tr>\n",
       "    <tr>\n",
       "      <th>max</th>\n",
       "      <td>2023-12-31 23:58:55</td>\n",
       "      <td>2024-01-01 14:20:23</td>\n",
       "      <td>4.206487e+01</td>\n",
       "      <td>-8.752823e+01</td>\n",
       "      <td>4.206485e+01</td>\n",
       "      <td>0.000000e+00</td>\n",
       "      <td>1.213630e+04</td>\n",
       "    </tr>\n",
       "    <tr>\n",
       "      <th>std</th>\n",
       "      <td>NaN</td>\n",
       "      <td>NaN</td>\n",
       "      <td>4.301366e-02</td>\n",
       "      <td>2.490003e-02</td>\n",
       "      <td>5.549678e-02</td>\n",
       "      <td>7.712425e-02</td>\n",
       "      <td>3.608875e+01</td>\n",
       "    </tr>\n",
       "  </tbody>\n",
       "</table>\n",
       "</div>"
      ],
      "text/plain": [
       "                          started_at                       ended_at  \\\n",
       "count                        4331138                        4331138   \n",
       "mean   2023-07-15 19:03:01.081445120  2023-07-15 19:18:58.337543936   \n",
       "min              2023-01-01 00:02:06            2023-01-01 00:07:23   \n",
       "25%    2023-05-20 12:58:52.249999872            2023-05-20 13:19:58   \n",
       "50%       2023-07-20 15:05:49.500000     2023-07-20 15:24:58.500000   \n",
       "75%    2023-09-16 16:16:11.750000128     2023-09-16 16:36:31.500000   \n",
       "max              2023-12-31 23:58:55            2024-01-01 14:20:23   \n",
       "std                              NaN                            NaN   \n",
       "\n",
       "          start_lat     start_lng       end_lat       end_lng      duration  \n",
       "count  4.331138e+06  4.331138e+06  4.331138e+06  4.331138e+06  4.331138e+06  \n",
       "mean   4.190095e+01 -8.764466e+01  4.190137e+01 -8.764487e+01  1.595427e+01  \n",
       "min    4.164850e+01 -8.784409e+01  0.000000e+00 -8.784406e+01  1.666667e-02  \n",
       "25%    4.188090e+01 -8.765766e+01  4.188096e+01 -8.765842e+01  5.616667e+00  \n",
       "50%    4.189636e+01 -8.764170e+01  4.189662e+01 -8.764182e+01  9.800000e+00  \n",
       "75%    4.192677e+01 -8.762858e+01  4.192877e+01 -8.762858e+01  1.748333e+01  \n",
       "max    4.206487e+01 -8.752823e+01  4.206485e+01  0.000000e+00  1.213630e+04  \n",
       "std    4.301366e-02  2.490003e-02  5.549678e-02  7.712425e-02  3.608875e+01  "
      ]
     },
     "execution_count": 26,
     "metadata": {},
     "output_type": "execute_result"
    }
   ],
   "source": [
    "#checking the final dataset\n",
    "clean_data.describe()"
   ]
  },
  {
   "cell_type": "code",
   "execution_count": 27,
   "id": "c312d6fa-d6bc-4a16-af7f-ade7dd43e97d",
   "metadata": {},
   "outputs": [
    {
     "data": {
      "text/plain": [
       "(4331138, 15)"
      ]
     },
     "execution_count": 27,
     "metadata": {},
     "output_type": "execute_result"
    }
   ],
   "source": [
    "#Checking the size of the clean data\n",
    "clean_data.shape"
   ]
  },
  {
   "cell_type": "markdown",
   "id": "9ca42964-d4c3-40e1-ada9-798284099d0c",
   "metadata": {},
   "source": [
    "Now, our dataset is complete (has no missing values), the data types are consistent, and it is free from outliers. We also have all the columns we need to answer the research questions in this project. Our final data now has 4,331,138 rows in 15 columns. The data is ready to be used to answer the research questions."
   ]
  },
  {
   "cell_type": "markdown",
   "id": "656c129d-c5d7-4eb0-ac5d-764fa854f9af",
   "metadata": {},
   "source": [
    "## Exploratory data analysis\n",
    "### *i) Which stations have the highest number of rides?*"
   ]
  },
  {
   "cell_type": "code",
   "execution_count": 29,
   "id": "c11965da-6527-484b-96cf-603f74469be8",
   "metadata": {},
   "outputs": [
    {
     "data": {
      "text/html": [
       "<div>\n",
       "<style scoped>\n",
       "    .dataframe tbody tr th:only-of-type {\n",
       "        vertical-align: middle;\n",
       "    }\n",
       "\n",
       "    .dataframe tbody tr th {\n",
       "        vertical-align: top;\n",
       "    }\n",
       "\n",
       "    .dataframe thead th {\n",
       "        text-align: right;\n",
       "    }\n",
       "</style>\n",
       "<table border=\"1\" class=\"dataframe\">\n",
       "  <thead>\n",
       "    <tr style=\"text-align: right;\">\n",
       "      <th></th>\n",
       "      <th>start_station_name</th>\n",
       "      <th>ride_id</th>\n",
       "    </tr>\n",
       "  </thead>\n",
       "  <tbody>\n",
       "    <tr>\n",
       "      <th>1416</th>\n",
       "      <td>Streeter Dr &amp; Grand Ave</td>\n",
       "      <td>59608</td>\n",
       "    </tr>\n",
       "    <tr>\n",
       "      <th>266</th>\n",
       "      <td>DuSable Lake Shore Dr &amp; Monroe St</td>\n",
       "      <td>38012</td>\n",
       "    </tr>\n",
       "    <tr>\n",
       "      <th>569</th>\n",
       "      <td>Michigan Ave &amp; Oak St</td>\n",
       "      <td>34777</td>\n",
       "    </tr>\n",
       "    <tr>\n",
       "      <th>267</th>\n",
       "      <td>DuSable Lake Shore Dr &amp; North Blvd</td>\n",
       "      <td>33158</td>\n",
       "    </tr>\n",
       "    <tr>\n",
       "      <th>168</th>\n",
       "      <td>Clark St &amp; Elm St</td>\n",
       "      <td>32964</td>\n",
       "    </tr>\n",
       "    <tr>\n",
       "      <th>445</th>\n",
       "      <td>Kingsbury St &amp; Kinzie St</td>\n",
       "      <td>32301</td>\n",
       "    </tr>\n",
       "    <tr>\n",
       "      <th>195</th>\n",
       "      <td>Clinton St &amp; Washington Blvd</td>\n",
       "      <td>30215</td>\n",
       "    </tr>\n",
       "    <tr>\n",
       "      <th>1469</th>\n",
       "      <td>Wells St &amp; Concord Ln</td>\n",
       "      <td>30044</td>\n",
       "    </tr>\n",
       "    <tr>\n",
       "      <th>575</th>\n",
       "      <td>Millennium Park</td>\n",
       "      <td>28101</td>\n",
       "    </tr>\n",
       "    <tr>\n",
       "      <th>1420</th>\n",
       "      <td>Theater on the Lake</td>\n",
       "      <td>28033</td>\n",
       "    </tr>\n",
       "  </tbody>\n",
       "</table>\n",
       "</div>"
      ],
      "text/plain": [
       "                      start_station_name  ride_id\n",
       "1416             Streeter Dr & Grand Ave    59608\n",
       "266    DuSable Lake Shore Dr & Monroe St    38012\n",
       "569                Michigan Ave & Oak St    34777\n",
       "267   DuSable Lake Shore Dr & North Blvd    33158\n",
       "168                    Clark St & Elm St    32964\n",
       "445             Kingsbury St & Kinzie St    32301\n",
       "195         Clinton St & Washington Blvd    30215\n",
       "1469               Wells St & Concord Ln    30044\n",
       "575                      Millennium Park    28101\n",
       "1420                 Theater on the Lake    28033"
      ]
     },
     "execution_count": 29,
     "metadata": {},
     "output_type": "execute_result"
    }
   ],
   "source": [
    "#grouping the data by start stations\n",
    "rides_by_station = clean_data[[\"start_station_name\", \"ride_id\"]].groupby([\"start_station_name\"]).count().reset_index().sort_values(by = \"ride_id\", ascending = False).head(10)\n",
    "rides_by_station"
   ]
  },
  {
   "cell_type": "code",
   "execution_count": 30,
   "id": "1770f705-a56c-4e7d-a86b-bc8ce9b15b5b",
   "metadata": {},
   "outputs": [
    {
     "data": {
      "text/plain": [
       "Text(0.5, 1.0, 'Number of rides by Station')"
      ]
     },
     "execution_count": 30,
     "metadata": {},
     "output_type": "execute_result"
    },
    {
     "data": {
      "image/png": "[encoded data removed]",
      "text/plain": [
       "<Figure size 1500x1000 with 1 Axes>"
      ]
     },
     "metadata": {},
     "output_type": "display_data"
    }
   ],
   "source": [
    "#creating a chart for stations with highest rides\n",
    "plt.figure(figsize = (15,10))\n",
    "ax = sns.barplot(y = 'start_station_name',\n",
    "            x = 'ride_id',\n",
    "            errwidth=0,\n",
    "            data = rides_by_station)\n",
    "ax.bar_label(ax.containers[0])\n",
    "ax.set(ylabel = \"Station Name\",\n",
    "      xlabel = \"Number of rides\",)\n",
    "ax.set_title( \n",
    "  'Number of rides by Station', fontdict= { 'fontsize': 20, 'verticalalignment': 'bottom'}) "
   ]
  },
  {
   "cell_type": "markdown",
   "id": "884f6410-d631-49c0-9bc6-5620ab957d19",
   "metadata": {},
   "source": [
    "The chart shows that Streeter Dr & Grand Ave had the highest number of rides, followed by DuSable Lake Shore Dr & Monroe St."
   ]
  },
  {
   "cell_type": "markdown",
   "id": "63572173-99b6-4fb4-a3c3-ca24103fe820",
   "metadata": {},
   "source": [
    "### *ii) Which weekday has the highest number of rides?*"
   ]
  },
  {
   "cell_type": "code",
   "execution_count": 31,
   "id": "31caf8af-ac92-4762-8cd3-974d9cacb54c",
   "metadata": {},
   "outputs": [
    {
     "data": {
      "text/html": [
       "<div>\n",
       "<style scoped>\n",
       "    .dataframe tbody tr th:only-of-type {\n",
       "        vertical-align: middle;\n",
       "    }\n",
       "\n",
       "    .dataframe tbody tr th {\n",
       "        vertical-align: top;\n",
       "    }\n",
       "\n",
       "    .dataframe thead th {\n",
       "        text-align: right;\n",
       "    }\n",
       "</style>\n",
       "<table border=\"1\" class=\"dataframe\">\n",
       "  <thead>\n",
       "    <tr style=\"text-align: right;\">\n",
       "      <th></th>\n",
       "      <th>weekday</th>\n",
       "      <th>ride_id</th>\n",
       "    </tr>\n",
       "  </thead>\n",
       "  <tbody>\n",
       "    <tr>\n",
       "      <th>0</th>\n",
       "      <td>Friday</td>\n",
       "      <td>628299</td>\n",
       "    </tr>\n",
       "    <tr>\n",
       "      <th>1</th>\n",
       "      <td>Monday</td>\n",
       "      <td>562033</td>\n",
       "    </tr>\n",
       "    <tr>\n",
       "      <th>2</th>\n",
       "      <td>Saturday</td>\n",
       "      <td>660726</td>\n",
       "    </tr>\n",
       "    <tr>\n",
       "      <th>3</th>\n",
       "      <td>Sunday</td>\n",
       "      <td>562532</td>\n",
       "    </tr>\n",
       "    <tr>\n",
       "      <th>4</th>\n",
       "      <td>Thursday</td>\n",
       "      <td>651515</td>\n",
       "    </tr>\n",
       "    <tr>\n",
       "      <th>5</th>\n",
       "      <td>Tuesday</td>\n",
       "      <td>630289</td>\n",
       "    </tr>\n",
       "    <tr>\n",
       "      <th>6</th>\n",
       "      <td>Wednesday</td>\n",
       "      <td>635744</td>\n",
       "    </tr>\n",
       "  </tbody>\n",
       "</table>\n",
       "</div>"
      ],
      "text/plain": [
       "     weekday  ride_id\n",
       "0     Friday   628299\n",
       "1     Monday   562033\n",
       "2   Saturday   660726\n",
       "3     Sunday   562532\n",
       "4   Thursday   651515\n",
       "5    Tuesday   630289\n",
       "6  Wednesday   635744"
      ]
     },
     "execution_count": 31,
     "metadata": {},
     "output_type": "execute_result"
    }
   ],
   "source": [
    "#grouping the data by weekday and the number of rides\n",
    "rides_by_weekday = clean_data[[\"weekday\", \"ride_id\"]].groupby([\"weekday\"]).count().reset_index()\n",
    "rides_by_weekday"
   ]
  },
  {
   "cell_type": "code",
   "execution_count": 32,
   "id": "70d1effd-1e26-4a73-846b-fe8f93c59414",
   "metadata": {},
   "outputs": [],
   "source": [
    "#day order\n",
    "weekday_order = [\"Monday\",\"Tuesday\",\"Wednesday\",\"Thursday\",\"Friday\",\"Saturday\",\"Sunday\"]"
   ]
  },
  {
   "cell_type": "code",
   "execution_count": 33,
   "id": "be169c6d-85e5-4d7d-ae11-02772b4f1580",
   "metadata": {},
   "outputs": [
    {
     "data": {
      "text/plain": [
       "Text(0.5, 1.0, 'Number of rides by Day Name')"
      ]
     },
     "execution_count": 33,
     "metadata": {},
     "output_type": "execute_result"
    },
    {
     "data": {
      "image/png": "[encoded data removed]",
      "text/plain": [
       "<Figure size 1500x700 with 1 Axes>"
      ]
     },
     "metadata": {},
     "output_type": "display_data"
    }
   ],
   "source": [
    "#creating a chart for a number of rides per weekday name\n",
    "plt.figure(figsize = (15,7))\n",
    "ax = sns.barplot(x = 'weekday',\n",
    "            y = 'ride_id',\n",
    "            order = weekday_order,\n",
    "            data = rides_by_weekday)\n",
    "ax.bar_label(ax.containers[0])\n",
    "ax.set(ylabel = \"Day Name\",\n",
    "      xlabel = \"Number of rides\",)\n",
    "ax.set_title( \n",
    "  'Number of rides by Day Name', fontdict= { 'fontsize': 20, 'verticalalignment': 'bottom'})"
   ]
  },
  {
   "cell_type": "markdown",
   "id": "ea07f84e-93b9-421a-989f-a9a503de93f3",
   "metadata": {},
   "source": [
    "The chart shows that all days of the week have slightly different numbers of rides. Saturdays have the highest number of rides, while Wednesday has the lowest. There is some trend in the number of rides per day of the week. The number of rides starts low on Mondays, then steadily improves on the subsequent days to Thursdays. The number of rides reduces slightly on Fridays, then increases to peak on Saturday before reducing again on Sunday."
   ]
  },
  {
   "cell_type": "markdown",
   "id": "3814efdc-49d9-4da3-afd5-11ce204ade3e",
   "metadata": {},
   "source": [
    "### *iii) Do annual riders have more rides than casual riders?*"
   ]
  },
  {
   "cell_type": "code",
   "execution_count": 49,
   "id": "d135a806-15ee-4d20-af29-0e8fb8597e91",
   "metadata": {},
   "outputs": [
    {
     "data": {
      "text/html": [
       "<div>\n",
       "<style scoped>\n",
       "    .dataframe tbody tr th:only-of-type {\n",
       "        vertical-align: middle;\n",
       "    }\n",
       "\n",
       "    .dataframe tbody tr th {\n",
       "        vertical-align: top;\n",
       "    }\n",
       "\n",
       "    .dataframe thead th {\n",
       "        text-align: right;\n",
       "    }\n",
       "</style>\n",
       "<table border=\"1\" class=\"dataframe\">\n",
       "  <thead>\n",
       "    <tr style=\"text-align: right;\">\n",
       "      <th></th>\n",
       "      <th>member_casual</th>\n",
       "      <th>ride_id</th>\n",
       "    </tr>\n",
       "  </thead>\n",
       "  <tbody>\n",
       "    <tr>\n",
       "      <th>0</th>\n",
       "      <td>casual</td>\n",
       "      <td>1531530</td>\n",
       "    </tr>\n",
       "    <tr>\n",
       "      <th>1</th>\n",
       "      <td>member</td>\n",
       "      <td>2799608</td>\n",
       "    </tr>\n",
       "  </tbody>\n",
       "</table>\n",
       "</div>"
      ],
      "text/plain": [
       "  member_casual  ride_id\n",
       "0        casual  1531530\n",
       "1        member  2799608"
      ]
     },
     "execution_count": 49,
     "metadata": {},
     "output_type": "execute_result"
    }
   ],
   "source": [
    "#grouping the data by weekday and the number of rides\n",
    "rides_by_membership = clean_data[[\"member_casual\", \"ride_id\"]].groupby([\"member_casual\"]).count().reset_index()\n",
    "rides_by_membership"
   ]
  },
  {
   "cell_type": "code",
   "execution_count": 44,
   "id": "fa35e860-ad14-4ff7-8f10-73b7f167a795",
   "metadata": {},
   "outputs": [
    {
     "data": {
      "text/plain": [
       "Text(0.5, 1.0, 'Number of rides by Membership Type')"
      ]
     },
     "execution_count": 44,
     "metadata": {},
     "output_type": "execute_result"
    },
    {
     "data": {
      "image/png": "[encoded data removed]",
      "text/plain": [
       "<Figure size 800x500 with 1 Axes>"
      ]
     },
     "metadata": {},
     "output_type": "display_data"
    }
   ],
   "source": [
    "#creating a chart for a number of rides per weekday name\n",
    "plt.figure(figsize = (8,5))\n",
    "ax = sns.barplot(x = 'member_casual',\n",
    "            y = 'ride_id',\n",
    "            data = rides_by_membership)\n",
    "ax.bar_label(ax.containers[0])\n",
    "ax.set(ylabel = \"Membership Type\",\n",
    "      xlabel = \"Number of rides\",)\n",
    "ax.set_title( \n",
    "  'Number of rides by Membership Type', fontdict= { 'fontsize': 20, 'verticalalignment': 'bottom'})"
   ]
  },
  {
   "cell_type": "markdown",
   "id": "7f3449f1-9277-49c8-ac8b-f1cc2bcae0e9",
   "metadata": {},
   "source": [
    "The chart shows that members have relatively higher number of annual rides compared to casual riders."
   ]
  },
  {
   "cell_type": "markdown",
   "id": "ccb22004-f965-4f46-aee1-be4d8942ec7b",
   "metadata": {},
   "source": [
    "### *v) Do annual riders have a higher average ride duration than casual riders?*"
   ]
  },
  {
   "cell_type": "code",
   "execution_count": 54,
   "id": "e354ced8-e4af-41c0-8fa1-2210090ef3b7",
   "metadata": {},
   "outputs": [
    {
     "data": {
      "text/html": [
       "<div>\n",
       "<style scoped>\n",
       "    .dataframe tbody tr th:only-of-type {\n",
       "        vertical-align: middle;\n",
       "    }\n",
       "\n",
       "    .dataframe tbody tr th {\n",
       "        vertical-align: top;\n",
       "    }\n",
       "\n",
       "    .dataframe thead th {\n",
       "        text-align: right;\n",
       "    }\n",
       "</style>\n",
       "<table border=\"1\" class=\"dataframe\">\n",
       "  <thead>\n",
       "    <tr style=\"text-align: right;\">\n",
       "      <th></th>\n",
       "      <th>member_casual</th>\n",
       "      <th>duration</th>\n",
       "    </tr>\n",
       "  </thead>\n",
       "  <tbody>\n",
       "    <tr>\n",
       "      <th>0</th>\n",
       "      <td>casual</td>\n",
       "      <td>22.940198</td>\n",
       "    </tr>\n",
       "    <tr>\n",
       "      <th>1</th>\n",
       "      <td>member</td>\n",
       "      <td>12.132604</td>\n",
       "    </tr>\n",
       "  </tbody>\n",
       "</table>\n",
       "</div>"
      ],
      "text/plain": [
       "  member_casual   duration\n",
       "0        casual  22.940198\n",
       "1        member  12.132604"
      ]
     },
     "execution_count": 54,
     "metadata": {},
     "output_type": "execute_result"
    }
   ],
   "source": [
    "#grouping the data by weekday and the number of rides\n",
    "duration_by_membership = clean_data[[\"member_casual\", \"duration\"]].groupby([\"member_casual\"]).mean().reset_index()\n",
    "duration_by_membership"
   ]
  },
  {
   "cell_type": "code",
   "execution_count": 55,
   "id": "7d371ef0-6c9f-424f-b887-c1e17506769d",
   "metadata": {},
   "outputs": [
    {
     "data": {
      "text/plain": [
       "Text(0.5, 1.0, 'Duration by Membership Type')"
      ]
     },
     "execution_count": 55,
     "metadata": {},
     "output_type": "execute_result"
    },
    {
     "data": {
      "image/png": "[encoded data removed]",
      "text/plain": [
       "<Figure size 800x500 with 1 Axes>"
      ]
     },
     "metadata": {},
     "output_type": "display_data"
    }
   ],
   "source": [
    "#creating a chart for average annual duration by member_casual\n",
    "plt.figure(figsize = (8,5))\n",
    "ax = sns.barplot(x = 'member_casual',\n",
    "            y = 'duration',\n",
    "            data = duration_by_membership)\n",
    "ax.bar_label(ax.containers[0])\n",
    "ax.set(ylabel = \"Membership Type\",\n",
    "      xlabel = \"Duration\",)\n",
    "ax.set_title( \n",
    "  'Duration by Membership Type', fontdict= { 'fontsize': 20, 'verticalalignment': 'bottom'})"
   ]
  },
  {
   "cell_type": "markdown",
   "id": "9a8489a0-af81-4fa3-a9fe-fc62424282f3",
   "metadata": {},
   "source": [
    "The average ride duration for causal riders seems higher than for member riders. However, we need to be sure before making any conclusion. We need to conduct an A/B test to determine if the average ride duration for causal riders is significantly higher than the average ride duration for member riders."
   ]
  },
  {
   "cell_type": "markdown",
   "id": "af4976d0-2300-4e62-85e4-99eeeedc736e",
   "metadata": {},
   "source": [
    "## A/B Test"
   ]
  },
  {
   "cell_type": "markdown",
   "id": "23ed56dd-df77-4a32-a79c-c3cd6f4db09b",
   "metadata": {},
   "source": [
    "This part of our project aims to determine if the difference between the average ride duration of member riders and that of casual member riders is statistically significant.\n",
    "\n",
    "The research question in this test is: *Is the average ride duration of casual riders statistically higher than that of member riders?*\n",
    "\n",
    "The following are the null and alternative hypotheses of the test.\n",
    "\n",
    "##### *H0:* The average ride duration of casual members is less or equal that of member riders.\n",
    "##### *H1:* Casual members' average ride duration is greater than that of member riders.\n",
    "\n",
    "At a 95% level of significance, the alpha shall be 0.05. The decision-making criteria shall to reject the null hypothesis if the p-value is less than 0.05."
   ]
  },
  {
   "cell_type": "code",
   "execution_count": 58,
   "id": "054bea3b-7a26-48ca-96c5-bdf2811becf0",
   "metadata": {},
   "outputs": [],
   "source": [
    "# importing stats from scipy\n",
    "from scipy import stats"
   ]
  },
  {
   "cell_type": "code",
   "execution_count": 67,
   "id": "eafc93fb-df79-4037-9b12-0882f4771815",
   "metadata": {},
   "outputs": [],
   "source": [
    "casual_rider_duration = clean_data[clean_data[\"member_casual\"] == \"casual\"]\n",
    "member_rider_duration = clean_data[clean_data[\"member_casual\"] == \"member\"]"
   ]
  },
  {
   "cell_type": "markdown",
   "id": "7a99783f-3dab-4821-ac49-cbaddaee461a",
   "metadata": {},
   "source": [
    "We are comparing the sample means between two independent samples. Therefore, we shall use a two-sample t-test. It is a right-sided test."
   ]
  },
  {
   "cell_type": "code",
   "execution_count": 73,
   "id": "78410ab5-e90a-4fb4-984f-1d45610ab3e5",
   "metadata": {},
   "outputs": [
    {
     "data": {
      "text/plain": [
       "TtestResult(statistic=244.71111153941936, pvalue=0.0, df=1834635.3807060367)"
      ]
     },
     "execution_count": 73,
     "metadata": {},
     "output_type": "execute_result"
    }
   ],
   "source": [
    "stats.ttest_ind(a = casual_rider_duration[\"duration\"], b = member_rider_duration[\"duration\"], alternative = \"greater\", equal_var = False)"
   ]
  },
  {
   "cell_type": "markdown",
   "id": "6115d9ec-b62d-4132-ac20-e27d8eef9461",
   "metadata": {},
   "source": [
    "As seen in the above output, the p-value is 0.0. This output is less than the significant level (0.05). Therefore, we have enough evidence to reject the null hypothesis.\n",
    "We have enough evidence to support the claim that casual members' average ride duration is greater than that of member riders."
   ]
  },
  {
   "cell_type": "markdown",
   "id": "dd9b2d87-857d-4b4a-ae53-49b4ace7c867",
   "metadata": {},
   "source": [
    "## Conclusion\n",
    "\n",
    "This project aimed to determine if the company should start a marketing campaign to encourage more riders to become annual members. Based on this data for 2023 riders' information, the majority of the riders are already annual members. The average ride duration of casual riders is significantly higher than annual members. Therefore, the results of this study do not support the idea of spending money on advertising to encourage more riders to become annual members. The study shows that a rider converting into an annual member is not likely to increase their ride duration. The marketing team should look for other advertising strategies to increase ride durations."
   ]
  }
 ],
 "metadata": {
  "kernelspec": {
   "display_name": "Python 3 (ipykernel)",
   "language": "python",
   "name": "python3"
  },
  "language_info": {
   "codemirror_mode": {
    "name": "ipython",
    "version": 3
   },
   "file_extension": ".py",
   "mimetype": "text/x-python",
   "name": "python",
   "nbconvert_exporter": "python",
   "pygments_lexer": "ipython3",
   "version": "3.11.4"
  }
 },
 "nbformat": 4,
 "nbformat_minor": 5
}
